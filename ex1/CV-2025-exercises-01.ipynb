{
 "cells": [
  {
   "cell_type": "markdown",
   "id": "662da44a",
   "metadata": {},
   "source": [
    "# Exercise 1\n",
    "### Computer Vision, Fall 2025\n",
    "#### Name: <font color='blue'>Matias Paloranta</font>\n",
    "---\n",
    "**Instructions:**\n",
    "- Return the answer in PDF and Jupyter Notebook formats.\n",
    "\n",
    "- Return latest on<font color='red'> Sunday 14.9 at 23.50</font> via Moodle.\n"
   ]
  },
  {
   "cell_type": "markdown",
   "id": "e09d1365",
   "metadata": {},
   "source": [
    "## Ex 1.1 Homogeneous Coordinates and Transformations (2 Points)\n",
    "\n",
    "#### a) Translate $(t)$, scale $(s)$, and rotate $(r)$ a point $c=(c_x, c_y)$ on the xy-plane to a new location $(d_x, d_y)$ as illustrated below.\n",
    "\n",
    "![title](images/img01.png)\n",
    " \n",
    "Using the translation $(2, 3)$, scaling $(-2, 8)$, and rotation $(70^{\\circ})$, answer the following:\n",
    "\n",
    "(i) Provide the matrix representation for the translation using homogeneous coordinates.\n",
    "\n",
    "(ii) Provide the matrix representation for the scaling using homogeneous coordinates.\n",
    "\n",
    "(iii) Provide the matrix representation for the rotation using homogeneous coordinates.\n",
    "\n",
    "(iv) Transform the point $c=(3,4)$ on the xy-plane to a new location $(d_x, d_y)$ using the translation and scaling operations given in sections (i) and (ii). Perform two separate tasks: first translation then scaling, and first scaling then translation. Compare the final locations and state if the order of transformations matters. You only need to provide the final locations.\n",
    "\n",
    "Hint:\n",
    "\n",
    " - We have provided empty matrices for you. Fill them with the correct values."
   ]
  },
  {
   "cell_type": "markdown",
   "id": "519bafd7",
   "metadata": {},
   "source": [
    "#### 1.1.a i) Translation"
   ]
  },
  {
   "cell_type": "markdown",
   "id": "70c91d4c",
   "metadata": {},
   "source": [
    "    Answer:\n",
    "$$\n",
    "Translation:\n",
    "\\begin{bmatrix}\n",
    "   1 & 0 & 2 \\\\\n",
    "   0 & 1 & 3 \\\\\n",
    "   0 & 0 & 1 \\\\\n",
    "\\end{bmatrix}\n",
    "\\begin{bmatrix}\n",
    "   c_x \\\\\n",
    "   c_y \\\\\n",
    "   1 \\\\\n",
    "\\end{bmatrix}\n",
    "=\n",
    "\\begin{bmatrix}\n",
    "   c_x + 2 \\\\\n",
    "   c_y + 3 \\\\\n",
    "   1 \\\\\n",
    "\\end{bmatrix}\n",
    "$$"
   ]
  },
  {
   "cell_type": "markdown",
   "id": "2ff7ebc9",
   "metadata": {},
   "source": [
    "#### 1.1.a ii) Scaling"
   ]
  },
  {
   "cell_type": "markdown",
   "id": "40e45f72",
   "metadata": {},
   "source": [
    "    Answer:\n",
    "    \n",
    "$$\n",
    "Scale:\n",
    "\\begin{bmatrix}\n",
    "   -2 & 0 & 0 \\\\\n",
    "   0 & 8 & 0 \\\\\n",
    "   0 & 0 & 1 \\\\\n",
    "\\end{bmatrix}\n",
    "\\begin{bmatrix}\n",
    "   c_x \\\\\n",
    "   c_y \\\\\n",
    "   1 \\\\\n",
    "\\end{bmatrix}\n",
    "=\n",
    "\\begin{bmatrix}\n",
    "   -2 c_x \\\\\n",
    "   8 c_y \\\\\n",
    "   1 \\\\\n",
    "\\end{bmatrix}\n",
    "$$"
   ]
  },
  {
   "cell_type": "markdown",
   "id": "74cb63b5",
   "metadata": {},
   "source": [
    "#### 1.1.a iii) Rotation"
   ]
  },
  {
   "cell_type": "markdown",
   "id": "d78b4f28",
   "metadata": {},
   "source": [
    "    Answer:\n",
    "\n",
    "$$\n",
    "Rotation:\n",
    "\\begin{bmatrix}\n",
    "   \\cos 70^\\circ & -\\sin 70^\\circ & 0 \\\\\n",
    "   \\sin 70^\\circ & \\cos 70^\\circ & 0 \\\\\n",
    "   0 & 0 & 1 \\\\\n",
    "\\end{bmatrix}\n",
    "\\begin{bmatrix}\n",
    "   c_x \\\\\n",
    "   c_y \\\\\n",
    "   1 \\\\\n",
    "\\end{bmatrix}\n",
    "=\n",
    "\\begin{bmatrix}\n",
    "   \\cos 70^\\circ c_x - \\sin 70^\\circ c_y \\\\\n",
    "   \\sin 70^\\circ c_x + \\cos 70^\\circ c_y \\\\\n",
    "   1 \\\\\n",
    "\\end{bmatrix}\n",
    "$$"
   ]
  },
  {
   "cell_type": "markdown",
   "id": "6badc973",
   "metadata": {},
   "source": [
    "#### 1.1.a iv) Comparing the Outcomes: Translation Followed by Scaling vs. Scaling Followed by Translation"
   ]
  },
  {
   "cell_type": "markdown",
   "id": "a37bf402",
   "metadata": {},
   "source": [
    "    Answer: \n",
    "    \n",
    "Set $c=(3,4)$. \n",
    "\n",
    "First translation then scaling:\n",
    "$$\n",
    "\\implies c^\\prime\n",
    "=\n",
    "\\begin{bmatrix}\n",
    "    -4 \\\\\n",
    "    35 \\\\\n",
    "    1 \\\\\n",
    "\\end{bmatrix}\n",
    "$$\n",
    "\n",
    "First scaling then translation:\n",
    "$$\n",
    "\\implies c^\\prime\n",
    "=\n",
    "\\begin{bmatrix}\n",
    "    -10 \\\\\n",
    "    56 \\\\\n",
    "    1 \\\\\n",
    "\\end{bmatrix}\n",
    "$$\n",
    "\n",
    "Since the outcomes are not the same, the order of transformations matter."
   ]
  },
  {
   "cell_type": "code",
   "execution_count": 6,
   "id": "5ab3364d",
   "metadata": {},
   "outputs": [
    {
     "name": "stdout",
     "output_type": "stream",
     "text": [
      "[[-4]\n",
      " [35]\n",
      " [ 1]]\n",
      "[[-10]\n",
      " [ 56]\n",
      " [  1]]\n"
     ]
    }
   ],
   "source": [
    "import numpy as np\n",
    "\n",
    "t = np.matrix(\"1 0 2; 0 1 3; 0 0 1\")\n",
    "s = np.matrix(\"-2 0 0; 0 8 0; 0 0 1\")\n",
    "c = np.matrix(\"3; 4; 1\")\n",
    "print((t @ s ) @ c)\n",
    "print((s @ t) @ c)"
   ]
  },
  {
   "cell_type": "markdown",
   "id": "7d496b53",
   "metadata": {},
   "source": [
    "#### b) Homogeneous line\n",
    "\n",
    "i) Give the formula for presenting a homogeneous coordinate as a line. Plot the homogeneous lines $l_1$ and $l_2$ in a 2D coordinate system where $l_1 = (1,0,1)$ and $l_2 = (6,0,2)$. Describe what the lines look like.\n",
    "\n",
    "ii) Calculate the point where the homogeneous lines $l_1$ and $l_2$ join. Are you able to plot this point in a 2D plot? Explain why if not.\n",
    "\n",
    "Hint:\n",
    "\n",
    " - the (3x1) homogenous point vector x must satisfy both $I_1^Tx = 0$ and $I_2^Tx = 0$. In other words, it should be orthogonal to both $I_1$ and $I_2$."
   ]
  },
  {
   "cell_type": "markdown",
   "id": "77fa3ac6",
   "metadata": {},
   "source": [
    "    Answer:\n",
    "    \n",
    "i)\n",
    "\n",
    "A homogenous line is a 3-vector $\\boldsymbol{l}=(a, b, c)$ defining the set of points $\\boldsymbol{x}=(x,y,1)$ satisfying the equation $$\\boldsymbol{x} \\cdot \\boldsymbol{l} = ax + by + c = 0.$$ \n",
    "\n",
    "In 2D-space, for $\\boldsymbol{l}_1=(1,0,1)$ we obtain $$x + 1 = 0 \\implies x = -1$$ and for $\\boldsymbol{l}_2=(6,0,2)$ we obtain $$6x + 2 = 0 \\implies x=-\\frac{1}{3}.$$\n",
    "\n",
    "So we have two vertical lines at $x=-1$ and $x=-\\frac{1}{3}$. \n",
    "\n",
    "ii)\n",
    "\n",
    "The intersection $\\boldsymbol{x}$ is given by the cross product $\\boldsymbol{x} = \\boldsymbol{l}_1 \\times \\boldsymbol{l}_2$. For $\\boldsymbol{l}_1 = (1,0,1)$ and $\\boldsymbol{l}_2 = (6,0,2)$ we obtain\n",
    "\n",
    "$$\n",
    "\\boldsymbol{x} = \\boldsymbol{l}_1 \\times \\boldsymbol{l}_2 = (0,4,0).\n",
    "$$\n",
    "\n",
    "Since the last element of $\\boldsymbol{x}$ is $0$, it represents a point at infinity and thus cannot be plotted in a 2D plot.\n",
    "\n"
   ]
  },
  {
   "cell_type": "markdown",
   "id": "ea6258a4",
   "metadata": {},
   "source": [
    "## Ex 1.2 OpenCV basics and image manipulation with Python (3 points)\n",
    "\n",
    "In this exercise we’ll start learning how to use Python and OpenCV for computer vision tasks."
   ]
  },
  {
   "cell_type": "code",
   "execution_count": null,
   "id": "7e885801",
   "metadata": {},
   "outputs": [],
   "source": [
    "# Import Python packages needed in this week exercises. \n",
    "from matplotlib import pyplot as plt\n",
    "import numpy as np\n",
    "import cv2"
   ]
  },
  {
   "cell_type": "markdown",
   "id": "2b7afdb4",
   "metadata": {},
   "source": [
    "#### 1.2 a)\n",
    "\n",
    "- Load the image located at 'images/lapland.jpeg'.\n",
    "- State the shape (dimensions) of the image.\n",
    "- Display the original image and each of its three color channels (Blue, Green, and Red) separately.\n",
    "\n",
    "Hint: \n",
    "\n",
    "- By default, OpenCV's `imread` function reads images in BGR format, while Matplotlib displays images in RGB format. \n",
    "    - You can use OpenCV's `cv2.cvtColor(img, cv2.COLOR_BGR2RGB)` to convert the image from BGR to RGB.\n",
    "- Images containing a single color channel are typically displayed using a grayscale colormap.\n",
    "    - In matplotlib, you can use the parameter `cmap='gray'` to achieve this."
   ]
  },
  {
   "cell_type": "code",
   "execution_count": 3,
   "id": "d5ea2f84",
   "metadata": {},
   "outputs": [],
   "source": [
    "# Answer here"
   ]
  },
  {
   "cell_type": "markdown",
   "id": "c9e819d3",
   "metadata": {},
   "source": [
    "#### 1.2 b)\n",
    "\n",
    "- Load the grayscale image 'images/white_cross.png'.\n",
    "- Identify the point (x, y) where the white lines intersect. Assume the origin (0,0) is at the top-left corner.\n",
    "\n",
    "The image below illustrates the coordinate system employed in this exercise, which is also frequently utilized in computer vision.\n",
    "\n",
    "<img src=\"images/image_coordinates.png\" width=\"350\" align=\"center\">\n",
    "\n",
    "Hints:\n",
    "\n",
    "- The image contains only two color values: 0 and 255, indicating it's a 1-channel black and white image.\n",
    "- The intersecting lines are straight, parallel to the axis, and have a thickness of one pixel."
   ]
  },
  {
   "cell_type": "code",
   "execution_count": null,
   "id": "d226d6dd",
   "metadata": {},
   "outputs": [],
   "source": [
    "# Answer here"
   ]
  },
  {
   "cell_type": "markdown",
   "id": "6dfc1327",
   "metadata": {},
   "source": [
    "#### 1.2 c)\n",
    "\n",
    "- Load the color image 'images/red_and_blue.jpg'.\n",
    "- Determine the size of the red circle and blue rectangle in terms of pixel count.\n",
    "\n",
    "Hint:\n",
    "\n",
    "- The image only includes RGB color values: (0,0,0), (0,0,255), and (255,0,0)."
   ]
  },
  {
   "cell_type": "code",
   "execution_count": null,
   "id": "7e254553",
   "metadata": {},
   "outputs": [],
   "source": [
    "# Answer here"
   ]
  },
  {
   "cell_type": "markdown",
   "id": "62d15816",
   "metadata": {},
   "source": [
    "## Ex 1.3 Singular Value Decomposition (SVD) (3 points)\n",
    "\n",
    "Singular Value Decomposition (SVD): Every $m \\times p$ matrix factors into $A_{n \\times p} = U_{n \\times n} \\Sigma_{n \\times p} V^T_{p \\times p}$\n",
    "\n",
    "Singular Value Decomposition can be used for image compression by first applying SVD to the image matrix and then recomposing it by using only some of the singular values contained in matrix $\\Sigma_{n \\times p}$ and dropping the respective columns and rows in matrices $U_{n \\times n}$ and $V^T_{p \\times p}$ in order to make the matrices compatible for recomposing the image matrix.\n",
    "\n",
    "Try this for yourself by decomposing images/lenna.png (open the image as grayscale) with SVD, and then recompose the image by using only the first 50 singular values (you can use the ready-made SVD function in numpy.linalg library, no need to implement it from scratch unless you want to). Also try using different number of singular values. How many singular values are needed before the image no longer appears blurry (Optional extra: how is the image size changed, i.e how much memory you save by compressing the image)?\n",
    "\n",
    "Explain why this method of image compression works, what is the role of singular values and what information they contain? Brief explanation is enough for this assignment."
   ]
  },
  {
   "cell_type": "code",
   "execution_count": null,
   "id": "8142d730",
   "metadata": {},
   "outputs": [],
   "source": [
    "# Answer here"
   ]
  }
 ],
 "metadata": {
  "kernelspec": {
   "display_name": "Python 3",
   "language": "python",
   "name": "python3"
  },
  "language_info": {
   "codemirror_mode": {
    "name": "ipython",
    "version": 3
   },
   "file_extension": ".py",
   "mimetype": "text/x-python",
   "name": "python",
   "nbconvert_exporter": "python",
   "pygments_lexer": "ipython3",
   "version": "3.10.12"
  }
 },
 "nbformat": 4,
 "nbformat_minor": 5
}
